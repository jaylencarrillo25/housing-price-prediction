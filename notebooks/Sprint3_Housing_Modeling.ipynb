{
 "cells": [
  {
   "cell_type": "markdown",
   "id": "1d24f467-0680-4572-9319-31686088a838",
   "metadata": {},
   "source": [
    "# Loading and Inspecting Data"
   ]
  },
  {
   "cell_type": "code",
   "execution_count": 1,
   "id": "1263fe56-4bd2-4262-b300-3b74146b99d2",
   "metadata": {},
   "outputs": [],
   "source": [
    "import sys\n",
    "sys.path.append(\"..\")"
   ]
  },
  {
   "cell_type": "code",
   "execution_count": 6,
   "id": "ff70dddf-9d17-4890-940e-1864bdc77906",
   "metadata": {},
   "outputs": [
    {
     "ename": "ImportError",
     "evalue": "cannot import name 'train_linear_regression' from 'housing_predictor.modeling.train' (/Users/jaylencarrillo/Downloads/housing-price-prediction/notebooks/../housing_predictor/modeling/train.py)",
     "output_type": "error",
     "traceback": [
      "\u001b[31m---------------------------------------------------------------------------\u001b[39m",
      "\u001b[31mImportError\u001b[39m                               Traceback (most recent call last)",
      "\u001b[36mCell\u001b[39m\u001b[36m \u001b[39m\u001b[32mIn[6]\u001b[39m\u001b[32m, line 11\u001b[39m\n\u001b[32m      9\u001b[39m \u001b[38;5;28;01mfrom\u001b[39;00m\u001b[38;5;250m \u001b[39m\u001b[34;01mhousing_predictor\u001b[39;00m\u001b[34;01m.\u001b[39;00m\u001b[34;01mdataset\u001b[39;00m\u001b[38;5;250m \u001b[39m\u001b[38;5;28;01mimport\u001b[39;00m load_data\n\u001b[32m     10\u001b[39m \u001b[38;5;28;01mfrom\u001b[39;00m\u001b[38;5;250m \u001b[39m\u001b[34;01mhousing_predictor\u001b[39;00m\u001b[34;01m.\u001b[39;00m\u001b[34;01mfeatures\u001b[39;00m\u001b[38;5;250m \u001b[39m\u001b[38;5;28;01mimport\u001b[39;00m clean_data, engineer_features\n\u001b[32m---> \u001b[39m\u001b[32m11\u001b[39m \u001b[38;5;28;01mfrom\u001b[39;00m\u001b[38;5;250m \u001b[39m\u001b[34;01mhousing_predictor\u001b[39;00m\u001b[34;01m.\u001b[39;00m\u001b[34;01mmodeling\u001b[39;00m\u001b[34;01m.\u001b[39;00m\u001b[34;01mtrain\u001b[39;00m\u001b[38;5;250m \u001b[39m\u001b[38;5;28;01mimport\u001b[39;00m train_linear_regression\n\u001b[32m     12\u001b[39m \u001b[38;5;28;01mfrom\u001b[39;00m\u001b[38;5;250m \u001b[39m\u001b[34;01mhousing_predictor\u001b[39;00m\u001b[34;01m.\u001b[39;00m\u001b[34;01mmodeling\u001b[39;00m\u001b[34;01m.\u001b[39;00m\u001b[34;01mtrain\u001b[39;00m\u001b[38;5;250m \u001b[39m\u001b[38;5;28;01mimport\u001b[39;00m train_random_forest\n\u001b[32m     13\u001b[39m \u001b[38;5;28;01mfrom\u001b[39;00m\u001b[38;5;250m \u001b[39m\u001b[34;01mhousing_predictor\u001b[39;00m\u001b[34;01m.\u001b[39;00m\u001b[34;01mmodeling\u001b[39;00m\u001b[34;01m.\u001b[39;00m\u001b[34;01mevaluate\u001b[39;00m\u001b[38;5;250m \u001b[39m\u001b[38;5;28;01mimport\u001b[39;00m evaluate_model\n",
      "\u001b[31mImportError\u001b[39m: cannot import name 'train_linear_regression' from 'housing_predictor.modeling.train' (/Users/jaylencarrillo/Downloads/housing-price-prediction/notebooks/../housing_predictor/modeling/train.py)"
     ]
    }
   ],
   "source": [
    "import pandas as pd\n",
    "import numpy as np\n",
    "import matplotlib.pyplot as plt\n",
    "import seaborn as sns\n",
    "\n",
    "from sklearn.model_selection import KFold\n",
    "# from sklearn.metrics import make_scorer, mean_squared_error\n",
    "\n",
    "from housing_predictor.dataset import load_data\n",
    "from housing_predictor.features import clean_data, engineer_features\n",
    "from housing_predictor.modeling.train import train_linear_regression\n",
    "from housing_predictor.modeling.train import train_random_forest\n",
    "from housing_predictor.modeling.evaluate import evaluate_model\n",
    "\n",
    "# Load data\n",
    "train_df, test_df = load_data()\n",
    "\n",
    "# Inspect data\n",
    "print(\"Train Dataset:\")\n",
    "display(train_df.head())\n",
    "\n",
    "print(\"\\nTest Dataset:\")\n",
    "display(test_df.head())\n",
    "\n",
    "print(\"\\nTrain Data Info:\")\n",
    "train_df.info()\n",
    "\n",
    "print(\"\\nTest Data Info:\")\n",
    "test_df.info()\n",
    "\n",
    "print(\"\\nMissing values in Train Data:\")\n",
    "print(train_df.isnull().sum())\n",
    "\n",
    "print(\"\\nMissing values in Test Data:\")\n",
    "print(test_df.isnull().sum())\n",
    "\n",
    "print(\"\\nTrain Dataset Statistics:\")\n",
    "display(train_df.describe())\n",
    "\n",
    "print(\"\\nTest Dataset Statistics:\")\n",
    "display(test_df.describe())"
   ]
  },
  {
   "cell_type": "markdown",
   "id": "de338b8c-ddcd-4ce3-ba42-f444379854f1",
   "metadata": {},
   "source": [
    "# Data Dictionary"
   ]
  },
  {
   "cell_type": "markdown",
   "id": "e7120b0c-f21e-4588-bef9-89681d5e1a9b",
   "metadata": {},
   "source": [
    "| Column Name     | Data Type | Description                                             |\n",
    "|-----------------|-----------|---------------------------------------------------------|\n",
    "| beds            | Integer   | Number of bedrooms                                      |\n",
    "| baths           | Float     | Number of bathrooms                                     |\n",
    "| size            | Float     | Size of the property (numeric)                          |\n",
    "| size_units      | String    | Units for property size (sqft)                          |\n",
    "| lot_size        | Float     | Size of the lot (numeric)                               |\n",
    "| lot_size_units  | String    | Units for lot size (sqft, acre)                         |\n",
    "| zip_code        | Integer   | Zip code of property location                           |\n",
    "| price           | Float     | Property price in USD (target variable for prediction)  |"
   ]
  },
  {
   "cell_type": "markdown",
   "id": "d2b0b646-bf5b-4dfc-8089-e29f0d349b45",
   "metadata": {},
   "source": [
    "# Data Cleaning and Preprocessing"
   ]
  },
  {
   "cell_type": "code",
   "execution_count": null,
   "id": "3d7156d6-0a48-43c4-84c3-54c0508b38fe",
   "metadata": {},
   "outputs": [],
   "source": [
    "train_df = clean_data(train_df)"
   ]
  },
  {
   "cell_type": "markdown",
   "id": "f177effa-2fbc-4d75-9113-dde4f6047b87",
   "metadata": {},
   "source": [
    "# Feature Engineering"
   ]
  },
  {
   "cell_type": "code",
   "execution_count": null,
   "id": "48b773b8-6073-4d58-9222-9fe0bc62b733",
   "metadata": {},
   "outputs": [],
   "source": [
    "train_df = engineer_features(train_df)"
   ]
  },
  {
   "cell_type": "markdown",
   "id": "645caf5e-811c-44a6-99c2-eb64b0258cb3",
   "metadata": {},
   "source": [
    "# Data Visualization"
   ]
  },
  {
   "cell_type": "code",
   "execution_count": null,
   "id": "28dbcd9a-c023-4818-8686-f43692ce5e34",
   "metadata": {},
   "outputs": [],
   "source": [
    "# Price distribution\n",
    "plt.figure(figsize=(10,5))\n",
    "plt.hist(train_df['price'], bins=50, edgecolor='black')\n",
    "plt.xlabel('Price (Normalized)')\n",
    "plt.ylabel('Frequency')\n",
    "plt.title('Distribution of House Prices')\n",
    "plt.show()\n",
    "\n",
    "# Feature correlation heatmap\n",
    "plt.figure(figsize=(12,8))\n",
    "sns.heatmap(train_df.drop(columns=['price']).corr(), annot=True, cmap='coolwarm', fmt=\".2f\")\n",
    "plt.title('Feature Correlation Heatmap (Excluding Price)')\n",
    "plt.show()\n",
    "\n",
    "# Scatter plot: Size vs Price\n",
    "plt.figure(figsize=(10,6))\n",
    "plt.scatter(train_df['size'], train_df['price'], alpha=0.5)\n",
    "plt.xlabel('Size (sqft)')\n",
    "plt.ylabel('Price (USD)')\n",
    "plt.title('Scatter Plot of Size vs. Price')\n",
    "plt.show()\n",
    "\n",
    "# Scatter plot: Lot Size vs Price\n",
    "plt.figure(figsize=(10,6))\n",
    "plt.scatter(train_df['lot_size'], train_df['price'], alpha=0.5, color='red')\n",
    "plt.xlabel('Lot Size (sqft)')\n",
    "plt.ylabel('Price (USD)')\n",
    "plt.title('Scatter Plot of Lot Size vs. Price')\n",
    "plt.show()"
   ]
  },
  {
   "cell_type": "markdown",
   "id": "988a2ad0-3ade-4539-a86a-c806a7e79f9f",
   "metadata": {},
   "source": [
    "# Cross Validation"
   ]
  },
  {
   "cell_type": "code",
   "execution_count": null,
   "id": "ccb50c8a-58a9-4f3e-9118-95017f31b67d",
   "metadata": {},
   "outputs": [],
   "source": [
    "# Separate features and target\n",
    "X = train_df.drop(columns=['price'])\n",
    "y = train_df['price']\n",
    "\n",
    "# Train models\n",
    "lr = train_linear_regression(X, y)\n",
    "rf = train_random_forest(X, y)\n",
    "\n",
    "# Setup cross-validation\n",
    "kf = KFold(n_splits=5, shuffle=True, random_state=42)\n",
    "\n",
    "# Evaluate Linear Regression\n",
    "print(\"\\nLinear Regression Performance:\")\n",
    "r2_lr, r2_std_lr, mse_lr, mse_std_lr = evaluate_model(lr, X, y, kf)\n",
    "print(f\"Mean R2 Score: {r2_lr:.4f} (Std: {r2_std_lr:.4f})\")\n",
    "print(f\"Mean MSE: {mse_lr:.4f} (Std: {mse_std_lr:.4f})\")\n",
    "\n",
    "# Evaluate Random Forest\n",
    "print(\"\\nRandom Forest Performance:\")\n",
    "r2_rf, r2_std_rf, mse_rf, mse_std_rf = evaluate_model(rf, X, y, kf)\n",
    "print(f\"Mean R2 Score: {r2_rf:.4f} (Std: {r2_std_rf:.4f})\")\n",
    "print(f\"Mean MSE: {mse_rf:.4f} (Std: {mse_std_rf:.4f})\")\n",
    "\n",
    "# Model comparison plot\n",
    "models = [\"Linear Regression\", \"Random Forest\"]\n",
    "r2_scores_list = [r2_lr, r2_rf]\n",
    "\n",
    "plt.figure(figsize=(10,5))\n",
    "plt.bar(models, r2_scores_list)\n",
    "plt.xlabel(\"Model\")\n",
    "plt.ylabel(\"Mean R2 Score\")\n",
    "plt.title(\"Model Performance (Higher is Better)\")\n",
    "plt.show()"
   ]
  }
 ],
 "metadata": {
  "kernelspec": {
   "display_name": "Python 3",
   "language": "python",
   "name": "python3"
  },
  "language_info": {
   "codemirror_mode": {
    "name": "ipython",
    "version": 3
   },
   "file_extension": ".py",
   "mimetype": "text/x-python",
   "name": "python",
   "nbconvert_exporter": "python",
   "pygments_lexer": "ipython3",
   "version": "3.13.3"
  }
 },
 "nbformat": 4,
 "nbformat_minor": 5
}
